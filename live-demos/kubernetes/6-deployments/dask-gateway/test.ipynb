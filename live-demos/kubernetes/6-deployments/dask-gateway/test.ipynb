{
 "cells": [
  {
   "cell_type": "code",
   "execution_count": null,
   "id": "9b3b6305",
   "metadata": {},
   "outputs": [],
   "source": [
    "!export PATH=\"/home/jovyan/.local/bin:$PATH\"\n",
    "!pip install numpy dask==2.30.0 distributed==2.30.0 dask-gateway \n",
    "!pip install 'fsspec>=0.3.3'\n"
   ]
  },
  {
   "cell_type": "code",
   "execution_count": null,
   "id": "66503d61",
   "metadata": {},
   "outputs": [],
   "source": [
    "# Users interact with a dask-gateway-server via the dask-gateway client library. \n",
    "# Typically a session starts by creating a Gateway client.\n",
    "# This takes a few parameters:\n",
    "#     address:       The full address of the dask-gateway server.\n",
    "#     proxy_address: The full address of the dask-gateway scheduler proxy.\n",
    "#                    If not provided, this defaults to address.\n",
    "#     auth:          The authentication method to use\n",
    "\n",
    "# The values for each of these are specific to your deployment\n",
    "# - consult your administrator for more information about your specific deployment.\n",
    "\n",
    "from dask_gateway import Gateway\n",
    "gateway = Gateway(\n",
    "    \"http://10.110.164.11\",\n",
    "    auth=\"jupyterhub\")\n",
    "\n"
   ]
  },
  {
   "cell_type": "code",
   "execution_count": null,
   "id": "4d625ca1",
   "metadata": {},
   "outputs": [],
   "source": [
    "# To check that everything is setup properly, query the gateway to see any existing clusters. \n",
    "# If this call completes, you should have a properly configured gateway client.\n",
    "\n",
    "gateway.list_clusters()\n"
   ]
  },
  {
   "cell_type": "code",
   "execution_count": null,
   "id": "63a1985f",
   "metadata": {},
   "outputs": [],
   "source": [
    "# Some dask-gateway-server deployments allow users to configure their clusters upon launching.\n",
    "# Typical options may include specifying worker memory/cores or which docker image to use. \n",
    "# To see which options (if any) your server supports you can use the Gateway.cluster_options() method.\n",
    "\n",
    "options = gateway.cluster_options()\n",
    "options\n"
   ]
  },
  {
   "cell_type": "code",
   "execution_count": null,
   "id": "c57c581a",
   "metadata": {},
   "outputs": [],
   "source": [
    "# To create a new cluster, you can use the Gateway.new_cluster() method.\n",
    "cluster = gateway.new_cluster(options)\n",
    "# To scale a cluster to one or more workers, you can use the GatewayCluster.scale() method. \n",
    "cluster.scale(1)\n",
    "gateway.list_clusters()\n"
   ]
  },
  {
   "cell_type": "code",
   "execution_count": null,
   "id": "b79a293e",
   "metadata": {},
   "outputs": [],
   "source": [
    "# To connect to the cluster, you can use the GatewayCluster.get_client() method.\n",
    "# This returns a dask.distributed.Client object.\n",
    "client = cluster.get_client()\n",
    "cluster\n"
   ]
  },
  {
   "cell_type": "code",
   "execution_count": null,
   "id": "6ab4ea52",
   "metadata": {},
   "outputs": [],
   "source": [
    "# NumPy array\n",
    "import numpy as np\n",
    "a_np = np.ones(10)\n",
    "a_np\n"
   ]
  },
  {
   "cell_type": "code",
   "execution_count": null,
   "id": "0856c28a",
   "metadata": {},
   "outputs": [],
   "source": [
    "a_np_sum = a_np[:5].sum() + a_np[5:].sum()\n",
    "a_np_sum\n"
   ]
  },
  {
   "cell_type": "code",
   "execution_count": null,
   "id": "345a80d9",
   "metadata": {},
   "outputs": [],
   "source": [
    "# Dask array\n",
    "import dask.array as da\n",
    "a_da = da.ones(1000000, chunks=25)\n",
    "a_da\n"
   ]
  },
  {
   "cell_type": "code",
   "execution_count": null,
   "id": "3625824c",
   "metadata": {},
   "outputs": [],
   "source": [
    "a_da_sum = a_da.sum()\n",
    "a_da_sum\n"
   ]
  },
  {
   "cell_type": "code",
   "execution_count": null,
   "id": "6ce215c5",
   "metadata": {},
   "outputs": [],
   "source": [
    "a_da_sum.compute()\n"
   ]
  },
  {
   "cell_type": "code",
   "execution_count": null,
   "id": "8903c589",
   "metadata": {},
   "outputs": [],
   "source": [
    "# When you’re done using it, you can shutdown the cluster using the Cluster.shutdown() method.\n",
    "# This will cleanly close all dask workers, as well as the scheduler.\n",
    "\n",
    "cluster.shutdown()"
   ]
  }
 ],
 "metadata": {
  "kernelspec": {
   "display_name": "Python 3 (ipykernel)",
   "language": "python",
   "name": "python3"
  },
  "language_info": {
   "codemirror_mode": {
    "name": "ipython",
    "version": 3
   },
   "file_extension": ".py",
   "mimetype": "text/x-python",
   "name": "python",
   "nbconvert_exporter": "python",
   "pygments_lexer": "ipython3",
   "version": "3.10.12"
  }
 },
 "nbformat": 4,
 "nbformat_minor": 5
}
